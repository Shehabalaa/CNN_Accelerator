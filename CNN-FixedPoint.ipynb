{
 "cells": [
  {
   "cell_type": "code",
   "execution_count": 1,
   "metadata": {},
   "outputs": [
    {
     "name": "stderr",
     "output_type": "stream",
     "text": [
      "Using TensorFlow backend.\n"
     ]
    }
   ],
   "source": [
    "from __future__ import print_function\n",
    "import keras\n",
    "import numpy as np\n",
    "from keras.datasets import mnist\n",
    "from keras.models import Sequential\n",
    "from keras.layers import Dense, Dropout, Flatten,Activation\n",
    "from keras.layers import Conv2D, MaxPooling2D,AveragePooling2D\n",
    "from keras import backend as K\n",
    "num_classes = 10\n",
    "epochs = 12"
   ]
  },
  {
   "cell_type": "code",
   "execution_count": 92,
   "metadata": {},
   "outputs": [
    {
     "name": "stdout",
     "output_type": "stream",
     "text": [
      "[ 0.5    -0.3125]\n"
     ]
    }
   ],
   "source": [
    "def makeFixed(Arr):\n",
    "    Arr2 = np.zeros_like(Arr)\n",
    "    for i in range(1,6):\n",
    "        for j in range(0,len(Arr)):\n",
    "            if(abs(Arr[j]) >= np.power(2,-i,dtype = float)):\n",
    "                if(Arr[j] > 0):\n",
    "                    Arr2[j] += np.power(2,-i,dtype = float)\n",
    "                    Arr[j] -= np.power(2,-i,dtype = float)\n",
    "                if(Arr[j] < 0):\n",
    "                    Arr2[j] -= np.power(2,-i,dtype = float)\n",
    "                    Arr[j] += np.power(2,-i,dtype = float)\n",
    "    return Arr2"
   ]
  },
  {
   "cell_type": "code",
   "execution_count": 97,
   "metadata": {
    "scrolled": true
   },
   "outputs": [
    {
     "name": "stdout",
     "output_type": "stream",
     "text": [
      "x_train shape: (60000, 28, 28, 1)\n",
      "60000 train samples\n",
      "10000 test samples\n",
      "Train on 60000 samples, validate on 10000 samples\n",
      "Epoch 1/1\n",
      "60000/60000 [==============================] - 18s 293us/step - loss: 0.4338 - acc: 0.8722 - val_loss: 0.3129 - val_acc: 0.9112\n",
      "Test loss: 0.31291502078771594\n",
      "Test accuracy: 0.9112\n"
     ]
    }
   ],
   "source": [
    "# input image dimensions\n",
    "img_rows, img_cols = 28, 28\n",
    "\n",
    "# the data, split between train and test sets\n",
    "(x_train, y_train), (x_test, y_test) = mnist.load_data()\n",
    "\n",
    "if K.image_data_format() == 'channels_first':\n",
    "    x_train = x_train.reshape(x_train.shape[0], 1, img_rows, img_cols)\n",
    "    x_test = x_test.reshape(x_test.shape[0], 1, img_rows, img_cols)\n",
    "    input_shape = (1, img_rows, img_cols)\n",
    "else:\n",
    "    x_train = x_train.reshape(x_train.shape[0], img_rows, img_cols, 1)\n",
    "    x_test = x_test.reshape(x_test.shape[0], img_rows, img_cols, 1)\n",
    "    input_shape = (img_rows, img_cols, 1)\n",
    "\n",
    "x_train = x_train.astype('float32')\n",
    "x_test = x_test.astype('float32')\n",
    "x_train /= 255\n",
    "x_test /= 255\n",
    "print('x_train shape:', x_train.shape)\n",
    "print(x_train.shape[0], 'train samples')\n",
    "print(x_test.shape[0], 'test samples')\n",
    "\n",
    "# convert class vectors to binary class matrices\n",
    "y_train = keras.utils.to_categorical(y_train, num_classes)\n",
    "y_test = keras.utils.to_categorical(y_test, num_classes)\n",
    "\n",
    "model = Sequential()\n",
    "model.add(Conv2D(1, kernel_size=(3, 3), padding = 'valid',strides = 1, use_bias = True,\n",
    "                 input_shape=input_shape,activation='relu'))\n",
    "model.add(MaxPooling2D(pool_size=(2, 2),strides = 2))\n",
    "model.add(Flatten())\n",
    "model.add(Dense(num_classes, use_bias = True))\n",
    "model.add(Activation('softmax'))\n",
    "\n",
    "\n",
    "model.compile(loss=keras.losses.categorical_crossentropy,\n",
    "              optimizer=keras.optimizers.Adadelta(),\n",
    "              metrics=['accuracy'])\n",
    "\n",
    "model.fit(x_train, y_train,\n",
    "          epochs=1,\n",
    "          verbose=1,\n",
    "          batch_size=20,\n",
    "          validation_data=(x_test, y_test))\n",
    "score = model.evaluate(x_test, y_test, verbose=0)\n",
    "print('Test loss:', score[0])\n",
    "print('Test accuracy:', score[1])"
   ]
  },
  {
   "cell_type": "code",
   "execution_count": 98,
   "metadata": {},
   "outputs": [
    {
     "name": "stdout",
     "output_type": "stream",
     "text": [
      "[0.04110432]\n",
      "[0.03125]\n",
      "[-0.12147353  0.1029686  -0.0028596  -0.08939906 -0.00389476  0.27986223\n",
      " -0.05701626  0.11593188 -0.31324014 -0.11279692]\n",
      "[-0.09375  0.09375  0.      -0.0625   0.       0.25    -0.03125  0.09375\n",
      " -0.3125  -0.09375]\n",
      "Test loss: 0.33703186528086665\n",
      "Test accuracy: 0.9041\n"
     ]
    }
   ],
   "source": [
    "import numpy as np\n",
    "model2 = np.copy(model)\n",
    "for layer in model.layers:\n",
    "    weights = np.array(layer.get_weights()) # list of numpy arrays\n",
    "    if(len(weights) >= 2):\n",
    "        print(weights[1].flatten())\n",
    "        shape1 = weights[1].shape\n",
    "        weights1 = weights[1].flatten()\n",
    "        weights3 = makeFixed(weights1)\n",
    "        weights3 = np.resize(weights3,shape1)\n",
    "        shape2 = weights[0].shape\n",
    "        weights2 = weights[0].flatten()\n",
    "        weights4 = makeFixed(weights2)\n",
    "        weights4 = np.resize(weights4,shape2)\n",
    "        weights[0] = weights4\n",
    "        weights[1] = weights3\n",
    "        print(weights[1].flatten())\n",
    "        layer.set_weights(weights)\n",
    "score = model.evaluate(x_test, y_test, verbose=0)\n",
    "print('Test loss:', score[0])\n",
    "print('Test accuracy:', score[1])\n",
    "model = model2"
   ]
  }
 ],
 "metadata": {
  "kernelspec": {
   "display_name": "Python 3",
   "language": "python",
   "name": "python3"
  },
  "language_info": {
   "codemirror_mode": {
    "name": "ipython",
    "version": 3
   },
   "file_extension": ".py",
   "mimetype": "text/x-python",
   "name": "python",
   "nbconvert_exporter": "python",
   "pygments_lexer": "ipython3",
   "version": "3.6.7"
  }
 },
 "nbformat": 4,
 "nbformat_minor": 2
}
