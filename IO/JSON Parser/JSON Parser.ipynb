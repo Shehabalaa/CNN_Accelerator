{
 "cells": [
  {
   "cell_type": "code",
   "execution_count": 1,
   "metadata": {},
   "outputs": [],
   "source": [
    "import json\n",
    "import numpy as np\n",
    "from bitarray import bitarray\n",
    "from array import *"
   ]
  },
  {
   "cell_type": "code",
   "execution_count": 2,
   "metadata": {},
   "outputs": [],
   "source": [
    "with open('CNN_info_Sample.json', 'r') as f:\n",
    "    CNN_data = json.load(f)\n",
    "layers = len(CNN_data['layers'])"
   ]
  },
  {
   "cell_type": "code",
   "execution_count": 3,
   "metadata": {},
   "outputs": [
    {
     "data": {
      "text/plain": [
       "'11111101'"
      ]
     },
     "execution_count": 3,
     "metadata": {},
     "output_type": "execute_result"
    }
   ],
   "source": [
    "ak = array('B')\n",
    "bin((int(\"00000011\", 2) - (1 << 8)))[3:]"
   ]
  },
  {
   "cell_type": "code",
   "execution_count": 4,
   "metadata": {},
   "outputs": [
    {
     "data": {
      "text/plain": [
       "'0010110100000011'"
      ]
     },
     "execution_count": 4,
     "metadata": {},
     "output_type": "execute_result"
    }
   ],
   "source": [
    "my_int = 11523\n",
    "bin(my_int)[2:].zfill(16)"
   ]
  },
  {
   "cell_type": "code",
   "execution_count": 5,
   "metadata": {},
   "outputs": [],
   "source": [
    "def split(big_int):\n",
    "    little_endian = big_int % 256\n",
    "    big_endian = (big_int >> 8)\n",
    "    return little_endian, big_endian"
   ]
  },
  {
   "cell_type": "code",
   "execution_count": 6,
   "metadata": {},
   "outputs": [],
   "source": [
    "def twos_compliment(quantized_string):\n",
    "    return bin((int(quantized_string, 2) - (1 << 8)))[3:11]"
   ]
  },
  {
   "cell_type": "code",
   "execution_count": 7,
   "metadata": {},
   "outputs": [],
   "source": [
    "def makeFixedStrings(number, integers,floating):\n",
    "    curr = number\n",
    "    string = ''\n",
    "    string += '0'\n",
    "    neg = False\n",
    "    if curr < 0:\n",
    "        neg = True\n",
    "    curr = abs(curr)\n",
    "    for i in range(integers-2,-1,-1):\n",
    "        if(curr > np.power(2,i,dtype = float)):\n",
    "            curr -= np.power(2,i,dtype = float)\n",
    "            string += '1'\n",
    "        else:\n",
    "            string += '0'\n",
    "    curr -= int(curr)\n",
    "    for i in range(1,floating+1):\n",
    "        if(curr > np.power(2,-i,dtype = float)):\n",
    "            curr -= np.power(2,-i,dtype = float)\n",
    "            string +='1'\n",
    "        else:\n",
    "            string +='0'\n",
    "    #print(string)\n",
    "    if neg:\n",
    "        string = twos_compliment(string)\n",
    "    return string"
   ]
  },
  {
   "cell_type": "code",
   "execution_count": 8,
   "metadata": {},
   "outputs": [
    {
     "data": {
      "text/plain": [
       "'00000101'"
      ]
     },
     "execution_count": 8,
     "metadata": {},
     "output_type": "execute_result"
    },
    {
     "data": {
      "text/plain": [
       "'11111100'"
      ]
     },
     "execution_count": 8,
     "metadata": {},
     "output_type": "execute_result"
    }
   ],
   "source": [
    "makeFixedStrings(0.07902283770829079, 2, 6)\n",
    "bin(int('00000100', 2) - (1 << 8))[3:11]"
   ]
  },
  {
   "cell_type": "code",
   "execution_count": 9,
   "metadata": {},
   "outputs": [],
   "source": [
    "def appendConv(layer, CNN_inputs, CNN_inputs_bitstring, CNN_inputs_binary, CNN_count):\n",
    "    biases = list(layer['biases']['w'].values())\n",
    "    for i, conv_filter in enumerate(layer['filters']):\n",
    "        CNN_inputs.append(\"bias of filter \" + str(i) + \": \" + str(biases[i]))\n",
    "        quantized_bias = makeFixedStrings(biases[i], 2, 6)\n",
    "        CNN_inputs_binary.append(int(quantized_bias, 2))\n",
    "        CNN_inputs_bitstring.append(quantized_bias)\n",
    "        for weight in conv_filter['w'].values():\n",
    "            CNN_inputs.append(weight)\n",
    "            quantized_weight = makeFixedStrings(weight, 2, 6)\n",
    "            CNN_inputs_binary.append(int(quantized_weight, 2))\n",
    "            CNN_inputs_bitstring.append(quantized_weight)\n",
    "    #return (len(layer['filters']) * len(layer['filters'][0]['w'].values())) + len(layer['filters'])"
   ]
  },
  {
   "cell_type": "code",
   "execution_count": 10,
   "metadata": {},
   "outputs": [],
   "source": [
    "def appendFC(layer, FC_inputs, FC_inputs_bitstring, FC_inputs_binary):\n",
    "    num_inputs = layer['num_inputs'] + 1\n",
    "    FC_inputs.append(\"FC input number: \" + str(num_inputs))\n",
    "    #Padding since RAM has width of 10 bytes\n",
    "    for k in range(2): #1 for global counter, 1 for Kaseb's byte\n",
    "        little, big = split(num_inputs)\n",
    "        FC_inputs_binary.append(int(big))\n",
    "        FC_inputs_binary.append(int(little))\n",
    "        FC_inputs_bitstring.append(bin(big)[2:].zfill(8))\n",
    "        FC_inputs_bitstring.append(bin(little)[2:].zfill(8))\n",
    "    \n",
    "    \n",
    "    for i in range(8):  #3 empty words + 1 for total inputs + 1 for depth = 5 (Ram width in 16-bit words)\n",
    "        FC_inputs_binary.append(int(0))\n",
    "        FC_inputs_bitstring.append(makeFixedStrings(0, 2, 6))\n",
    "                     \n",
    "    FC_weights = np.zeros((10, num_inputs))\n",
    "    biases = list(layer['biases']['w'].values())\n",
    "    for i, bias in enumerate(biases):\n",
    "        FC_inputs.append(\"bias \" + str(i) + \": \" + str(bias))\n",
    "        quantized_bias = makeFixedStrings(bias, 2, 6)\n",
    "        FC_inputs_binary.append(int(quantized_bias, 2))\n",
    "        FC_inputs_bitstring.append(quantized_bias)\n",
    "    for i, FC_filter in enumerate(layer['filters']):\n",
    "        weights = np.zeros(num_inputs)\n",
    "        for j, weight in enumerate(FC_filter['w'].values()):\n",
    "            weights[j] = weight\n",
    "        FC_weights[i,:] = weights\n",
    "    for col_num in range(num_inputs - 1):\n",
    "        for FC_weight in FC_weights[:, col_num]:\n",
    "            quantized_FC_weight = makeFixedStrings(FC_weight, 2, 6)\n",
    "            FC_inputs_binary.append(int(quantized_FC_weight, 2))\n",
    "            FC_inputs_bitstring.append(quantized_FC_weight)\n",
    "            FC_inputs.append(FC_weight)"
   ]
  },
  {
   "cell_type": "code",
   "execution_count": 11,
   "metadata": {},
   "outputs": [
    {
     "name": "stdout",
     "output_type": "stream",
     "text": [
      "--------------------------\n",
      "input\n",
      "Malhash lazma\n",
      "--------------------------\n",
      "conv\n",
      "Filter size is 5\n"
     ]
    },
    {
     "ename": "NameError",
     "evalue": "name 'CNN_count' is not defined",
     "output_type": "error",
     "traceback": [
      "\u001b[1;31m---------------------------------------------------------------------------\u001b[0m",
      "\u001b[1;31mNameError\u001b[0m                                 Traceback (most recent call last)",
      "\u001b[1;32m<ipython-input-11-6f4ef87db0a4>\u001b[0m in \u001b[0;36m<module>\u001b[1;34m\u001b[0m\n\u001b[0;32m     48\u001b[0m     \u001b[0mCNN_inputs_bitstring\u001b[0m\u001b[1;33m.\u001b[0m\u001b[0mappend\u001b[0m\u001b[1;33m(\u001b[0m\u001b[0mbin\u001b[0m\u001b[1;33m(\u001b[0m\u001b[0mlittle\u001b[0m\u001b[1;33m)\u001b[0m\u001b[1;33m[\u001b[0m\u001b[1;36m2\u001b[0m\u001b[1;33m:\u001b[0m\u001b[1;33m]\u001b[0m\u001b[1;33m.\u001b[0m\u001b[0mzfill\u001b[0m\u001b[1;33m(\u001b[0m\u001b[1;36m8\u001b[0m\u001b[1;33m)\u001b[0m\u001b[1;33m)\u001b[0m\u001b[1;33m\u001b[0m\u001b[1;33m\u001b[0m\u001b[0m\n\u001b[0;32m     49\u001b[0m     \u001b[1;32mif\u001b[0m \u001b[0mlayer_type\u001b[0m \u001b[1;33m==\u001b[0m \u001b[1;34m'conv'\u001b[0m\u001b[1;33m:\u001b[0m\u001b[1;33m\u001b[0m\u001b[1;33m\u001b[0m\u001b[0m\n\u001b[1;32m---> 50\u001b[1;33m         \u001b[0mappendConv\u001b[0m\u001b[1;33m(\u001b[0m\u001b[0mlayer\u001b[0m\u001b[1;33m,\u001b[0m \u001b[0mCNN_inputs\u001b[0m\u001b[1;33m,\u001b[0m \u001b[0mCNN_inputs_bitstring\u001b[0m\u001b[1;33m,\u001b[0m \u001b[0mCNN_inputs_binary\u001b[0m\u001b[1;33m,\u001b[0m \u001b[0mCNN_count\u001b[0m\u001b[1;33m)\u001b[0m\u001b[1;33m\u001b[0m\u001b[1;33m\u001b[0m\u001b[0m\n\u001b[0m\u001b[0;32m     51\u001b[0m \u001b[1;33m\u001b[0m\u001b[0m\n\u001b[0;32m     52\u001b[0m \u001b[0mCNN_count\u001b[0m \u001b[1;33m=\u001b[0m \u001b[0mlen\u001b[0m\u001b[1;33m(\u001b[0m\u001b[0mCNN_inputs\u001b[0m\u001b[1;33m)\u001b[0m \u001b[1;33m-\u001b[0m \u001b[1;36m2\u001b[0m\u001b[1;33m\u001b[0m\u001b[1;33m\u001b[0m\u001b[0m\n",
      "\u001b[1;31mNameError\u001b[0m: name 'CNN_count' is not defined"
     ]
    }
   ],
   "source": [
    "CNN_inputs = [0, 0, layers]\n",
    "CNN_inputs_bitstring = [0, 0, layers]\n",
    "CNN_inputs_binary = array('B')\n",
    "CNN_inputs_binary.append(int(0))\n",
    "CNN_inputs_binary.append(int(0))\n",
    "CNN_inputs_binary.append(int(layers))\n",
    "FC_inputs = []\n",
    "FC_inputs_bitstring = []\n",
    "FC_inputs_binary = array('B')\n",
    "config_layers = 0\n",
    "for layer in CNN_data['layers']:\n",
    "    print('--------------------------')\n",
    "    layer_type = layer['layer_type']\n",
    "    print(layer_type)\n",
    "    if layer_type == 'input' or layer_type == 'relu' or layer_type == 'softmax':\n",
    "        print('Malhash lazma')\n",
    "        continue\n",
    "    if layer_type == 'fc':\n",
    "        appendFC(layer, FC_inputs, FC_inputs_bitstring, FC_inputs_binary)\n",
    "        continue\n",
    "    config_layers += 1    #Only pool or conv layers need config word\n",
    "    config_word = bitarray(2**4)  #Bit array of size 16\n",
    "    config_word.setall(0)   #Resets the bit array to zeros\n",
    "    depth = layer['out_depth']\n",
    "    out_dim = layer['out_sx']\n",
    "    depth_bits = bitarray([depth >> i & 1 for i in range(3,-1,-1)])  #loops from 3 to 0, step of -1\n",
    "    dim_bits = bitarray([out_dim >> i & 1 for i in range(4,-1,-1)])\n",
    "    config_word[2: 6] = config_word[2: 6] | depth_bits\n",
    "    config_word[8 : 13] = config_word[8 : 13] | dim_bits\n",
    "    sx = layer['sx']\n",
    "    sy = layer['sy']\n",
    "    if sx == 3 and sy == 3:\n",
    "        print('Filter size is 3')\n",
    "        config_word[1] = 0\n",
    "    elif sx == 5 and sy == 5:\n",
    "        print('Filter size is 5')\n",
    "        config_word[1] = 1\n",
    "    if layer_type == 'pool':\n",
    "        config_word[0] = 0\n",
    "    if layer_type == 'conv':\n",
    "        config_word[0] = 1\n",
    "    CNN_inputs.append(config_word)\n",
    "    config_int = int(config_word.to01(), 2)\n",
    "    little, big = split(config_int)\n",
    "    CNN_inputs_binary.append(int(big))  #Left part of configuration word\n",
    "    CNN_inputs_binary.append(int(little))  #Right part\n",
    "    CNN_inputs_bitstring.append(bin(big)[2:].zfill(8))\n",
    "    CNN_inputs_bitstring.append(bin(little)[2:].zfill(8))\n",
    "    if layer_type == 'conv':\n",
    "        appendConv(layer, CNN_inputs, CNN_inputs_bitstring, CNN_inputs_binary, CNN_count)\n",
    "            \n",
    "CNN_count = len(CNN_inputs) - 2\n",
    "if CNN_count % 2 == 1:\n",
    "    CNN_inputs.append(0)\n",
    "    CNN_inputs_binary.append(int(0))\n",
    "    CNN_inputs_bitstring.append(makeFixedStrings(0, 2, 6))\n",
    "CNN_count = int((CNN_count + 1) / 2)\n",
    "little, big = split(CNN_count)\n",
    "CNN_inputs_binary[0] = int(big)\n",
    "CNN_inputs_binary[1] = int(little)\n",
    "CNN_inputs_bitstring[0] = bin(big)[2:].zfill(8)\n",
    "CNN_inputs_bitstring[1] = bin(little)[2:].zfill(8)\n",
    "\n",
    "CNN_inputs[2] = config_layers\n",
    "CNN_inputs_binary[2] = int(config_layers)\n",
    "CNN_inputs_bitstring[2] = bin(config_layers)[2:].zfill(8)"
   ]
  },
  {
   "cell_type": "code",
   "execution_count": null,
   "metadata": {},
   "outputs": [],
   "source": [
    "f = open('FC.binary','wb')\n",
    "FC_inputs_binary.tofile(f)\n",
    "f.close()"
   ]
  },
  {
   "cell_type": "code",
   "execution_count": null,
   "metadata": {},
   "outputs": [],
   "source": [
    "f = open('CNN.binary','wb')\n",
    "CNN_inputs_binary.tofile(f)\n",
    "f.close()"
   ]
  },
  {
   "cell_type": "code",
   "execution_count": null,
   "metadata": {},
   "outputs": [],
   "source": [
    "f = open('input.binary','wb')\n",
    "CNN_inputs_binary.tofile(f)\n",
    "FC_inputs_binary.tofile(f)\n",
    "f.close()"
   ]
  },
  {
   "cell_type": "code",
   "execution_count": null,
   "metadata": {},
   "outputs": [],
   "source": [
    "with open('CNN_input.txt', 'w') as file:\n",
    "    for i in range(len(CNN_inputs)):\n",
    "        file.write(str(CNN_inputs[i]))\n",
    "        file.write('\\n')\n",
    "file.close()"
   ]
  },
  {
   "cell_type": "code",
   "execution_count": null,
   "metadata": {},
   "outputs": [],
   "source": [
    "'''\n",
    "with open('FC_input.txt', 'w') as file:\n",
    "    for i in range(len(FC_inputs)):\n",
    "        file.write(str(FC_inputs[i]))\n",
    "        file.write('\\n')\n",
    "file.close()\n",
    "'''"
   ]
  },
  {
   "cell_type": "code",
   "execution_count": null,
   "metadata": {},
   "outputs": [],
   "source": [
    "with open('CNN_input_bitstring.txt', 'w') as file:\n",
    "    count = 0\n",
    "    for i in range(len(CNN_inputs_bitstring)):\n",
    "        if count == 2:\n",
    "            file.write('\\n')\n",
    "            count = 0\n",
    "        file.write(str(CNN_inputs_bitstring[i]))\n",
    "        file.write(' ')\n",
    "        count += 1\n",
    "file.close()"
   ]
  },
  {
   "cell_type": "code",
   "execution_count": null,
   "metadata": {},
   "outputs": [],
   "source": [
    "'''\n",
    "with open('FC_input_bitstring.txt', 'w') as file:\n",
    "    file.write(FC_inputs_bitstring[0])\n",
    "    file.write(FC_inputs_bitstring[1])\n",
    "    file.write('\\n')\n",
    "    count = 0\n",
    "    for i in range(2, len(FC_inputs_bitstring)):\n",
    "        if count == 10:\n",
    "            file.write('\\n')\n",
    "            count = 0\n",
    "        file.write(str(FC_inputs_bitstring[i]))\n",
    "        file.write(' ')\n",
    "        count += 1\n",
    "file.close()\n",
    "'''"
   ]
  },
  {
   "cell_type": "code",
   "execution_count": null,
   "metadata": {},
   "outputs": [],
   "source": []
  },
  {
   "cell_type": "code",
   "execution_count": null,
   "metadata": {},
   "outputs": [],
   "source": []
  },
  {
   "cell_type": "code",
   "execution_count": null,
   "metadata": {},
   "outputs": [],
   "source": [
    "'''\n",
    "with open('input.txt', 'w') as file:\n",
    "    for i in range(len(CNN_inputs)):\n",
    "        file.write(str(CNN_inputs[i]))\n",
    "        file.write('\\n')\n",
    "    for i in range(len(FC_inputs)):\n",
    "        file.write(str(FC_inputs[i]))\n",
    "        file.write('\\n')\n",
    "'''\n"
   ]
  }
 ],
 "metadata": {
  "kernelspec": {
   "display_name": "Python 3",
   "language": "python",
   "name": "python3"
  },
  "language_info": {
   "codemirror_mode": {
    "name": "ipython",
    "version": 3
   },
   "file_extension": ".py",
   "mimetype": "text/x-python",
   "name": "python",
   "nbconvert_exporter": "python",
   "pygments_lexer": "ipython3",
   "version": "3.7.3"
  }
 },
 "nbformat": 4,
 "nbformat_minor": 2
}
