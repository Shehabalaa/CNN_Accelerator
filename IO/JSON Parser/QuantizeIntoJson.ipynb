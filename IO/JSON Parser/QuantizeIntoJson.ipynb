{
 "cells": [
  {
   "cell_type": "code",
   "execution_count": 2,
   "metadata": {},
   "outputs": [],
   "source": [
    "import json\n",
    "import numpy as np"
   ]
  },
  {
   "cell_type": "code",
   "execution_count": 59,
   "metadata": {},
   "outputs": [],
   "source": [
    "with open('CNN_info_Sample.json', 'r') as f:\n",
    "    CNN_data = json.load(f)\n",
    "layers = len(CNN_data['layers'])"
   ]
  },
  {
   "cell_type": "code",
   "execution_count": 60,
   "metadata": {},
   "outputs": [],
   "source": [
    "def makeFixedStrings(Arr, integers,floating):\n",
    "    curr = Arr\n",
    "    curr2 = 0\n",
    "    curr = abs(curr)\n",
    "    for i in range(1,floating+1):\n",
    "        if(curr > np.power(2,-i,dtype = float)):\n",
    "            curr -= np.power(2,-i,dtype = float)\n",
    "            curr2 += np.power(2,-i,dtype = float)\n",
    "    if Arr < 0:\n",
    "        curr2 *= -1\n",
    "    return curr2"
   ]
  },
  {
   "cell_type": "code",
   "execution_count": 61,
   "metadata": {},
   "outputs": [
    {
     "name": "stdout",
     "output_type": "stream",
     "text": [
      "Malhash lazma\n",
      "Malhash lazma\n",
      "Malhash lazma\n",
      "Malhash lazma\n"
     ]
    }
   ],
   "source": [
    "CNN_inputs = [layers]\n",
    "FC_inputs = []\n",
    "config_layers = 0\n",
    "for layer in CNN_data['layers']:\n",
    "    layer_type = layer['layer_type']\n",
    "    if layer_type == 'input' or layer_type == 'pool' or layer_type == 'relu' or layer_type == 'softmax':\n",
    "        print('Malhash lazma')\n",
    "        continue\n",
    "    for i in layer['filters']:\n",
    "        for z in i['w'].items():\n",
    "            i['w'][z[0]] = makeFixedStrings(z[1],0,7)\n",
    "    for i in layer['biases']['w']:\n",
    "        layer['biases']['w'][i] = makeFixedStrings(layer['biases']['w'][i],0,7)"
   ]
  },
  {
   "cell_type": "code",
   "execution_count": 62,
   "metadata": {},
   "outputs": [],
   "source": [
    "with open('data.json', 'w') as outfile:\n",
    "    json.dump(CNN_data, outfile)"
   ]
  },
  {
   "cell_type": "code",
   "execution_count": 15,
   "metadata": {},
   "outputs": [
    {
     "name": "stdout",
     "output_type": "stream",
     "text": [
      "[0.0078125]\n"
     ]
    }
   ],
   "source": []
  },
  {
   "cell_type": "code",
   "execution_count": null,
   "metadata": {},
   "outputs": [],
   "source": []
  }
 ],
 "metadata": {
  "kernelspec": {
   "display_name": "Python 3",
   "language": "python",
   "name": "python3"
  },
  "language_info": {
   "codemirror_mode": {
    "name": "ipython",
    "version": 3
   },
   "file_extension": ".py",
   "mimetype": "text/x-python",
   "name": "python",
   "nbconvert_exporter": "python",
   "pygments_lexer": "ipython3",
   "version": "3.6.7"
  }
 },
 "nbformat": 4,
 "nbformat_minor": 2
}
