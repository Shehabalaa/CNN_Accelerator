{
 "cells": [
  {
   "cell_type": "code",
   "execution_count": null,
   "metadata": {},
   "outputs": [],
   "source": [
    "import numpy as np\n",
    "import os"
   ]
  },
  {
   "cell_type": "code",
   "execution_count": null,
   "metadata": {},
   "outputs": [],
   "source": [
    "CNN_data = []\n",
    "FC_data = []\n",
    "Image_data = []\n",
    "All_data = []"
   ]
  },
  {
   "cell_type": "code",
   "execution_count": null,
   "metadata": {},
   "outputs": [],
   "source": [
    "Image_filename = \"./Image RLE/Sample_Image.txt\"\n",
    "file = open(Image_filename, 'r')\n",
    "for line in file:\n",
    "    Image_data.append(line[:-1])"
   ]
  },
  {
   "cell_type": "code",
   "execution_count": null,
   "metadata": {},
   "outputs": [],
   "source": [
    "CNN_filename = \"./JSON Parser/CNN_input_bitstring.txt\"\n",
    "file = open(CNN_filename, 'r')\n",
    "for line in file:\n",
    "    byte1, byte2 = line.split()\n",
    "    word = byte1 + byte2\n",
    "    CNN_data.append(word)"
   ]
  },
  {
   "cell_type": "code",
   "execution_count": null,
   "metadata": {},
   "outputs": [],
   "source": [
    "FC_filename = \"./JSON Parser/FC_input_bitstring.txt\"\n",
    "file = open(FC_filename, 'r')\n",
    "for i, line in enumerate(file):\n",
    "    if i == 0:\n",
    "        FC_data.append(line[:-1])\n",
    "        CNN_data.append(line[:-1])\n",
    "        continue\n",
    "    byte_arr = line.split()\n",
    "    for j in range(5):\n",
    "        word = byte_arr[j] + byte_arr[(j * 2) + 1]\n",
    "        FC_data.append(word[:-1])\n",
    "        CNN_data.append(word[:-1])"
   ]
  },
  {
   "cell_type": "code",
   "execution_count": null,
   "metadata": {},
   "outputs": [],
   "source": [
    "def forceINTR(zeroOrOne):\n",
    "    return \"force -freeze sim:/CPU/INTR \" + str(zeroOrOne) + \" 0\\n\""
   ]
  },
  {
   "cell_type": "code",
   "execution_count": null,
   "metadata": {},
   "outputs": [],
   "source": [
    "def forceRst(zeroOrOne):\n",
    "    return \"force -freeze sim:/CPU/rst \" + str(zeroOrOne) + \" 0\\n\""
   ]
  },
  {
   "cell_type": "code",
   "execution_count": null,
   "metadata": {},
   "outputs": [],
   "source": [
    "def forceDin(word):\n",
    "    return \"force -freeze sim:/CPU/\" + word + \" 0\\n\""
   ]
  },
  {
   "cell_type": "code",
   "execution_count": null,
   "metadata": {},
   "outputs": [],
   "source": [
    "def setClk(clk):\n",
    "    return \"force -freeze sim:/accelerator/clk 1 0, 0 {25 ns} -r 50\\n\""
   ]
  },
  {
   "cell_type": "code",
   "execution_count": null,
   "metadata": {},
   "outputs": [],
   "source": [
    "def loadWaveforms():\n",
    "    return \"add wave -position insertpoint  \\\\\\n\\\n",
    "sim:/accelerator/Din \\\\\\n\\\n",
    "sim:/accelerator/INTR \\\\\\n\\\n",
    "sim:/accelerator/clk \\\\\\n\\\n",
    "sim:/accelerator/loadOrProcess \\\\\\n\\\n",
    "sim:/accelerator/rst \\\\\\n\\\n",
    "sim:/accelerator/imageOrCNN\\n\""
   ]
  },
  {
   "cell_type": "code",
   "execution_count": null,
   "metadata": {},
   "outputs": [],
   "source": [
    "def runSimulation():\n",
    "    return \"vsim -gui work.accelerator\\n\"\n"
   ]
  },
  {
   "cell_type": "code",
   "execution_count": null,
   "metadata": {},
   "outputs": [],
   "source": [
    "def init():\n",
    "    return runSimulation() + loadWaveforms()"
   ]
  },
  {
   "cell_type": "code",
   "execution_count": null,
   "metadata": {},
   "outputs": [],
   "source": [
    "def forceFirstCycle():\n",
    "    return \"force -freeze sim:/accelerator/clk 0 0 \\n\\\n",
    "force -freeze sim:/accelerator/INTR 0 0 \\n\\\n",
    "force -freeze sim:/accelerator/rst 2#1 0, 2#0 50 \\n\\\n",
    "force -freeze sim:/accelerator/clk 1 0, 0 {25 ns} -r 50\\n\\\n",
    "run 75\\n\""
   ]
  },
  {
   "cell_type": "code",
   "execution_count": null,
   "metadata": {},
   "outputs": [],
   "source": [
    "def setupImage():\n",
    "    return \"force -freeze sim:/accelerator/INTR 1 0, 0 {50 ns} -r 1050 \\n\\\n",
    "force -freeze sim:/accelerator/loadOrProcess 0 0 \\n\\\n",
    "force -freeze sim:/accelerator/imageOrCNN 0 0\\n\""
   ]
  },
  {
   "cell_type": "code",
   "execution_count": null,
   "metadata": {},
   "outputs": [],
   "source": [
    "def writeInput(numString, waitCycleTime):\n",
    "    return \"force -freeze sim:/accelerator/Din 2'h\" + numString + \" 0 \\n\\\n",
    "run 26 \\n\\\n",
    "noforce sim:/accelerator/Din \\n\\\n",
    "run \" + str(waitCycleTime) + \"\\n\""
   ]
  },
  {
   "cell_type": "code",
   "execution_count": null,
   "metadata": {},
   "outputs": [],
   "source": [
    "def setupCNN():\n",
    "    return \"force -freeze sim:/accelerator/imageOrCNN 1 0 \\n\\\n",
    "force -freeze sim:/accelerator/INTR 1 0, 0 {50 ns} -r 250\\n\""
   ]
  },
  {
   "cell_type": "code",
   "execution_count": null,
   "metadata": {},
   "outputs": [],
   "source": [
    "def endState():\n",
    "    return \"force -freeze sim:/accelerator/loadOrProcess 1 0\\n\\\n",
    "force -freeze sim:/accelerator/INTR 0 0 \\n\\\n",
    "run 50\\n\""
   ]
  },
  {
   "cell_type": "code",
   "execution_count": null,
   "metadata": {},
   "outputs": [],
   "source": [
    "input_filename = \"AutomatedAcceleratorTest.do\"\n",
    "file = open(input_filename, 'w')\n",
    "\n",
    "file.writelines(init())\n",
    "file.writelines(forceFirstCycle())\n",
    "file.writelines(setupImage())\n",
    "for img_word in Image_data[0:3]:\n",
    "    file.writelines(writeInput(img_word, 1024))\n",
    "file.writelines(setupCNN())\n",
    "for CNN_word in CNN_data[0:3]:\n",
    "    file.writelines(writeInput(CNN_word, 224))\n",
    "for FC_word in FC_data[0:3]:\n",
    "    file.writelines(writeInput(FC_word, 224))\n",
    "file.writelines(endState())\n",
    "file.close()"
   ]
  },
  {
   "cell_type": "code",
   "execution_count": null,
   "metadata": {},
   "outputs": [],
   "source": [
    "FC_data[0:3]"
   ]
  },
  {
   "cell_type": "code",
   "execution_count": null,
   "metadata": {},
   "outputs": [],
   "source": [
    "Image_data[0]"
   ]
  },
  {
   "cell_type": "code",
   "execution_count": null,
   "metadata": {},
   "outputs": [],
   "source": []
  }
 ],
 "metadata": {
  "kernelspec": {
   "display_name": "Python 3",
   "language": "python",
   "name": "python3"
  },
  "language_info": {
   "codemirror_mode": {
    "name": "ipython",
    "version": 3
   },
   "file_extension": ".py",
   "mimetype": "text/x-python",
   "name": "python",
   "nbconvert_exporter": "python",
   "pygments_lexer": "ipython3",
   "version": "3.6.7"
  }
 },
 "nbformat": 4,
 "nbformat_minor": 2
}
