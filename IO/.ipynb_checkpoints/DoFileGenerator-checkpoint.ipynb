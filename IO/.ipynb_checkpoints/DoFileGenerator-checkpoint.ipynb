{
 "cells": [
  {
   "cell_type": "code",
   "execution_count": 1,
   "metadata": {},
   "outputs": [],
   "source": [
    "import numpy as np\n",
    "import os"
   ]
  },
  {
   "cell_type": "code",
   "execution_count": 2,
   "metadata": {},
   "outputs": [],
   "source": [
    "CNN_data = [0]\n",
    "FC_data = []\n",
    "Image_data = []\n",
    "All_data = []"
   ]
  },
  {
   "cell_type": "code",
   "execution_count": 3,
   "metadata": {},
   "outputs": [],
   "source": [
    "Image_filename = \"./Image RLE/Sample_Image.txt\"\n",
    "file = open(Image_filename, 'r')\n",
    "for line in file:\n",
    "    Image_data.append(line[:-1])"
   ]
  },
  {
   "cell_type": "code",
   "execution_count": 4,
   "metadata": {},
   "outputs": [
    {
     "data": {
      "text/plain": [
       "16"
      ]
     },
     "execution_count": 4,
     "metadata": {},
     "output_type": "execute_result"
    },
    {
     "data": {
      "text/plain": [
       "1"
      ]
     },
     "execution_count": 4,
     "metadata": {},
     "output_type": "execute_result"
    },
    {
     "data": {
      "text/plain": [
       "16"
      ]
     },
     "execution_count": 4,
     "metadata": {},
     "output_type": "execute_result"
    },
    {
     "data": {
      "text/plain": [
       "1"
      ]
     },
     "execution_count": 4,
     "metadata": {},
     "output_type": "execute_result"
    },
    {
     "data": {
      "text/plain": [
       "16"
      ]
     },
     "execution_count": 4,
     "metadata": {},
     "output_type": "execute_result"
    },
    {
     "data": {
      "text/plain": [
       "1"
      ]
     },
     "execution_count": 4,
     "metadata": {},
     "output_type": "execute_result"
    },
    {
     "data": {
      "text/plain": [
       "16"
      ]
     },
     "execution_count": 4,
     "metadata": {},
     "output_type": "execute_result"
    },
    {
     "data": {
      "text/plain": [
       "1"
      ]
     },
     "execution_count": 4,
     "metadata": {},
     "output_type": "execute_result"
    },
    {
     "data": {
      "text/plain": [
       "16"
      ]
     },
     "execution_count": 4,
     "metadata": {},
     "output_type": "execute_result"
    },
    {
     "data": {
      "text/plain": [
       "1"
      ]
     },
     "execution_count": 4,
     "metadata": {},
     "output_type": "execute_result"
    },
    {
     "data": {
      "text/plain": [
       "16"
      ]
     },
     "execution_count": 4,
     "metadata": {},
     "output_type": "execute_result"
    },
    {
     "data": {
      "text/plain": [
       "1"
      ]
     },
     "execution_count": 4,
     "metadata": {},
     "output_type": "execute_result"
    },
    {
     "data": {
      "text/plain": [
       "16"
      ]
     },
     "execution_count": 4,
     "metadata": {},
     "output_type": "execute_result"
    },
    {
     "data": {
      "text/plain": [
       "1"
      ]
     },
     "execution_count": 4,
     "metadata": {},
     "output_type": "execute_result"
    },
    {
     "data": {
      "text/plain": [
       "16"
      ]
     },
     "execution_count": 4,
     "metadata": {},
     "output_type": "execute_result"
    },
    {
     "data": {
      "text/plain": [
       "1"
      ]
     },
     "execution_count": 4,
     "metadata": {},
     "output_type": "execute_result"
    },
    {
     "data": {
      "text/plain": [
       "16"
      ]
     },
     "execution_count": 4,
     "metadata": {},
     "output_type": "execute_result"
    },
    {
     "data": {
      "text/plain": [
       "1"
      ]
     },
     "execution_count": 4,
     "metadata": {},
     "output_type": "execute_result"
    },
    {
     "data": {
      "text/plain": [
       "16"
      ]
     },
     "execution_count": 4,
     "metadata": {},
     "output_type": "execute_result"
    },
    {
     "data": {
      "text/plain": [
       "1"
      ]
     },
     "execution_count": 4,
     "metadata": {},
     "output_type": "execute_result"
    },
    {
     "data": {
      "text/plain": [
       "16"
      ]
     },
     "execution_count": 4,
     "metadata": {},
     "output_type": "execute_result"
    },
    {
     "data": {
      "text/plain": [
       "1"
      ]
     },
     "execution_count": 4,
     "metadata": {},
     "output_type": "execute_result"
    },
    {
     "data": {
      "text/plain": [
       "16"
      ]
     },
     "execution_count": 4,
     "metadata": {},
     "output_type": "execute_result"
    },
    {
     "data": {
      "text/plain": [
       "1"
      ]
     },
     "execution_count": 4,
     "metadata": {},
     "output_type": "execute_result"
    },
    {
     "data": {
      "text/plain": [
       "16"
      ]
     },
     "execution_count": 4,
     "metadata": {},
     "output_type": "execute_result"
    },
    {
     "data": {
      "text/plain": [
       "1"
      ]
     },
     "execution_count": 4,
     "metadata": {},
     "output_type": "execute_result"
    },
    {
     "data": {
      "text/plain": [
       "16"
      ]
     },
     "execution_count": 4,
     "metadata": {},
     "output_type": "execute_result"
    },
    {
     "data": {
      "text/plain": [
       "1"
      ]
     },
     "execution_count": 4,
     "metadata": {},
     "output_type": "execute_result"
    },
    {
     "data": {
      "text/plain": [
       "16"
      ]
     },
     "execution_count": 4,
     "metadata": {},
     "output_type": "execute_result"
    },
    {
     "data": {
      "text/plain": [
       "1"
      ]
     },
     "execution_count": 4,
     "metadata": {},
     "output_type": "execute_result"
    },
    {
     "data": {
      "text/plain": [
       "16"
      ]
     },
     "execution_count": 4,
     "metadata": {},
     "output_type": "execute_result"
    },
    {
     "data": {
      "text/plain": [
       "1"
      ]
     },
     "execution_count": 4,
     "metadata": {},
     "output_type": "execute_result"
    },
    {
     "data": {
      "text/plain": [
       "16"
      ]
     },
     "execution_count": 4,
     "metadata": {},
     "output_type": "execute_result"
    },
    {
     "data": {
      "text/plain": [
       "1"
      ]
     },
     "execution_count": 4,
     "metadata": {},
     "output_type": "execute_result"
    },
    {
     "data": {
      "text/plain": [
       "16"
      ]
     },
     "execution_count": 4,
     "metadata": {},
     "output_type": "execute_result"
    },
    {
     "data": {
      "text/plain": [
       "1"
      ]
     },
     "execution_count": 4,
     "metadata": {},
     "output_type": "execute_result"
    },
    {
     "data": {
      "text/plain": [
       "16"
      ]
     },
     "execution_count": 4,
     "metadata": {},
     "output_type": "execute_result"
    },
    {
     "data": {
      "text/plain": [
       "1"
      ]
     },
     "execution_count": 4,
     "metadata": {},
     "output_type": "execute_result"
    },
    {
     "data": {
      "text/plain": [
       "16"
      ]
     },
     "execution_count": 4,
     "metadata": {},
     "output_type": "execute_result"
    },
    {
     "data": {
      "text/plain": [
       "1"
      ]
     },
     "execution_count": 4,
     "metadata": {},
     "output_type": "execute_result"
    },
    {
     "data": {
      "text/plain": [
       "16"
      ]
     },
     "execution_count": 4,
     "metadata": {},
     "output_type": "execute_result"
    },
    {
     "data": {
      "text/plain": [
       "1"
      ]
     },
     "execution_count": 4,
     "metadata": {},
     "output_type": "execute_result"
    },
    {
     "data": {
      "text/plain": [
       "16"
      ]
     },
     "execution_count": 4,
     "metadata": {},
     "output_type": "execute_result"
    },
    {
     "data": {
      "text/plain": [
       "1"
      ]
     },
     "execution_count": 4,
     "metadata": {},
     "output_type": "execute_result"
    },
    {
     "data": {
      "text/plain": [
       "16"
      ]
     },
     "execution_count": 4,
     "metadata": {},
     "output_type": "execute_result"
    },
    {
     "data": {
      "text/plain": [
       "1"
      ]
     },
     "execution_count": 4,
     "metadata": {},
     "output_type": "execute_result"
    },
    {
     "data": {
      "text/plain": [
       "16"
      ]
     },
     "execution_count": 4,
     "metadata": {},
     "output_type": "execute_result"
    },
    {
     "data": {
      "text/plain": [
       "1"
      ]
     },
     "execution_count": 4,
     "metadata": {},
     "output_type": "execute_result"
    },
    {
     "data": {
      "text/plain": [
       "16"
      ]
     },
     "execution_count": 4,
     "metadata": {},
     "output_type": "execute_result"
    },
    {
     "data": {
      "text/plain": [
       "1"
      ]
     },
     "execution_count": 4,
     "metadata": {},
     "output_type": "execute_result"
    },
    {
     "data": {
      "text/plain": [
       "16"
      ]
     },
     "execution_count": 4,
     "metadata": {},
     "output_type": "execute_result"
    },
    {
     "data": {
      "text/plain": [
       "1"
      ]
     },
     "execution_count": 4,
     "metadata": {},
     "output_type": "execute_result"
    },
    {
     "data": {
      "text/plain": [
       "16"
      ]
     },
     "execution_count": 4,
     "metadata": {},
     "output_type": "execute_result"
    },
    {
     "data": {
      "text/plain": [
       "1"
      ]
     },
     "execution_count": 4,
     "metadata": {},
     "output_type": "execute_result"
    },
    {
     "data": {
      "text/plain": [
       "16"
      ]
     },
     "execution_count": 4,
     "metadata": {},
     "output_type": "execute_result"
    },
    {
     "data": {
      "text/plain": [
       "1"
      ]
     },
     "execution_count": 4,
     "metadata": {},
     "output_type": "execute_result"
    },
    {
     "data": {
      "text/plain": [
       "16"
      ]
     },
     "execution_count": 4,
     "metadata": {},
     "output_type": "execute_result"
    },
    {
     "data": {
      "text/plain": [
       "1"
      ]
     },
     "execution_count": 4,
     "metadata": {},
     "output_type": "execute_result"
    },
    {
     "data": {
      "text/plain": [
       "16"
      ]
     },
     "execution_count": 4,
     "metadata": {},
     "output_type": "execute_result"
    },
    {
     "data": {
      "text/plain": [
       "1"
      ]
     },
     "execution_count": 4,
     "metadata": {},
     "output_type": "execute_result"
    },
    {
     "data": {
      "text/plain": [
       "16"
      ]
     },
     "execution_count": 4,
     "metadata": {},
     "output_type": "execute_result"
    },
    {
     "data": {
      "text/plain": [
       "1"
      ]
     },
     "execution_count": 4,
     "metadata": {},
     "output_type": "execute_result"
    },
    {
     "data": {
      "text/plain": [
       "16"
      ]
     },
     "execution_count": 4,
     "metadata": {},
     "output_type": "execute_result"
    },
    {
     "data": {
      "text/plain": [
       "1"
      ]
     },
     "execution_count": 4,
     "metadata": {},
     "output_type": "execute_result"
    },
    {
     "data": {
      "text/plain": [
       "16"
      ]
     },
     "execution_count": 4,
     "metadata": {},
     "output_type": "execute_result"
    },
    {
     "data": {
      "text/plain": [
       "1"
      ]
     },
     "execution_count": 4,
     "metadata": {},
     "output_type": "execute_result"
    },
    {
     "data": {
      "text/plain": [
       "16"
      ]
     },
     "execution_count": 4,
     "metadata": {},
     "output_type": "execute_result"
    },
    {
     "data": {
      "text/plain": [
       "1"
      ]
     },
     "execution_count": 4,
     "metadata": {},
     "output_type": "execute_result"
    },
    {
     "data": {
      "text/plain": [
       "15"
      ]
     },
     "execution_count": 4,
     "metadata": {},
     "output_type": "execute_result"
    },
    {
     "data": {
      "text/plain": [
       "1"
      ]
     },
     "execution_count": 4,
     "metadata": {},
     "output_type": "execute_result"
    }
   ],
   "source": [
    "with open(\"testCNN.txt\",\"w\") as file:\n",
    "    for i in Image_data:\n",
    "        file.write(i)\n",
    "        file.write(\"\\n\")\n",
    "    "
   ]
  },
  {
   "cell_type": "code",
   "execution_count": 5,
   "metadata": {},
   "outputs": [],
   "source": [
    "CNN_filename = \"./JSON Parser/CNN_input_bitstring.txt\"\n",
    "file = open(CNN_filename, 'r')\n",
    "for line in file:\n",
    "    byte1, byte2 = line.split()\n",
    "    word = byte1 + byte2\n",
    "    CNN_data.append(word)"
   ]
  },
  {
   "cell_type": "code",
   "execution_count": 6,
   "metadata": {},
   "outputs": [
    {
     "name": "stdout",
     "output_type": "stream",
     "text": [
      "[0, '0000000001101010', '0000001011100000', '1100000011111100', '0000101100000010', '0000001011110111', '1110101100000011', '1110100100000001', '0000010100011100', '0000110011101110', '1110110000010101', '0010000100001110', '1111101111111011', '1110101111100011', '1111100100001110', '0000101111111111', '1111010111101100', '0000100111111010', '0000100100100001', '1111010000000011', '0000000100000000', '0001010011100101', '0000101100000111', '1111101100001100', '1111100111101010', '0000110000001110', '0001100111101011', '1110101000001110', '0000101100010001', '0000001100000001', '1111100011101011', '1101101111101101', '1110101111110010', '1110011011011110', '1101111111110010', '0001101111110100', '1110110011010101', '1101101000101110', '0001001000001101', '1111100111111011', '0001001000111111', '0001110110000000', '0000010000000111', '0010011100101111', '1110011111010011', '1110000100010011', '0010000011110110', '1110101111001010', '0010011100011100', '1110010111100000', '1101111000011000', '1111101011100100', '1101010111011111', '1111110111100110', '1101101011001101', '1110001010000000', '0000111100011001', '0000101111110000', '1101111000101000', '1111111011111111', '1100101011100010', '1111101011011011', '1100110111101000', '1111110011110110', '1110100011100000', '0000010100100000', '1111010011110110', '0000010100011110', '0010001000000001', '1111010011101100', '1111110000001111', '1000000000000010', '0000000000001010', '1000000000000100', '0001000000011011', '0000111110000000', '0000100011101110', '1101111011100010', '0000001100001101', '0000010000000010', '1111010011110000', '1111000000000010', '0001000000011010', '0010010000100100', '0000110000010000', '0001000100011010', '0011010100100111', '1110110111111000', '1110110111111100', '0000100011000010', '1110101011100100', '1100111111100110', '1101110011100010', '1101000111010110', '1111010111110010', '1110110111110101', '0000000000010001', '1111011111101011', '1111001000001100', '0001011100001011', '1110011100001100', '0001010100000101', '1111110000000110', '0000111011111101', '1111000111111111', '0000100011111010', '0000110011110111', '0000011000100000', '0110000000000000']\n"
     ]
    }
   ],
   "source": [
    "with open(\"CNN_words\", 'w') as file:\n",
    "    for word in CNN_data:\n",
    "        file.write(word)\n",
    "        file.write('\\n')"
   ]
  },
  {
   "cell_type": "code",
   "execution_count": 24,
   "metadata": {},
   "outputs": [],
   "source": [
    "FC_filename = \"./JSON Parser/FC_input_bitstring.txt\"\n",
    "file = open(FC_filename, 'r')\n",
    "for i, line in enumerate(file):\n",
    "    if i == 0:\n",
    "        FC_data.append(line[:-1])\n",
    "        CNN_data.append(line[:-1])\n",
    "        continue\n",
    "    byte_arr = line.split()\n",
    "    for j in range(5):\n",
    "        word = byte_arr[j] + byte_arr[(j * 2) + 1]\n",
    "        FC_data.append(word[:-1])\n",
    "        CNN_data.append(word[:-1])"
   ]
  },
  {
   "cell_type": "code",
   "execution_count": 25,
   "metadata": {},
   "outputs": [],
   "source": [
    "def forceINTR(zeroOrOne):\n",
    "    return \"force -freeze sim:/CPU/INTR \" + str(zeroOrOne) + \" 0\\n\""
   ]
  },
  {
   "cell_type": "code",
   "execution_count": 26,
   "metadata": {},
   "outputs": [],
   "source": [
    "def forceRst(zeroOrOne):\n",
    "    return \"force -freeze sim:/CPU/rst \" + str(zeroOrOne) + \" 0\\n\""
   ]
  },
  {
   "cell_type": "code",
   "execution_count": 27,
   "metadata": {},
   "outputs": [],
   "source": [
    "def forceDin(word):\n",
    "    return \"force -freeze sim:/CPU/\" + word + \" 0\\n\""
   ]
  },
  {
   "cell_type": "code",
   "execution_count": 28,
   "metadata": {},
   "outputs": [],
   "source": [
    "def setClk(clk):\n",
    "    return \"force -freeze sim:/accelerator/clk 1 0, 0 {25 ns} -r 50\\n\""
   ]
  },
  {
   "cell_type": "code",
   "execution_count": 29,
   "metadata": {},
   "outputs": [],
   "source": [
    "def loadWaveforms():\n",
    "    return \"add wave -position insertpoint  \\\\\\n\\\n",
    "sim:/accelerator/Din \\\\\\n\\\n",
    "sim:/accelerator/INTR \\\\\\n\\\n",
    "sim:/accelerator/clk \\\\\\n\\\n",
    "sim:/accelerator/loadOrProcess \\\\\\n\\\n",
    "sim:/accelerator/rst \\\\\\n\\\n",
    "sim:/accelerator/imageOrCNN\\n\""
   ]
  },
  {
   "cell_type": "code",
   "execution_count": 30,
   "metadata": {},
   "outputs": [],
   "source": [
    "def runSimulation():\n",
    "    return \"vsim -gui work.accelerator\\n\"\n"
   ]
  },
  {
   "cell_type": "code",
   "execution_count": 31,
   "metadata": {},
   "outputs": [],
   "source": [
    "def init():\n",
    "    return runSimulation() + loadWaveforms()"
   ]
  },
  {
   "cell_type": "code",
   "execution_count": 32,
   "metadata": {},
   "outputs": [],
   "source": [
    "def forceFirstCycle():\n",
    "    return \"force -freeze sim:/accelerator/clk 0 0 \\n\\\n",
    "force -freeze sim:/accelerator/INTR 0 0 \\n\\\n",
    "force -freeze sim:/accelerator/rst 2#1 0, 2#0 50 \\n\\\n",
    "force -freeze sim:/accelerator/clk 1 0, 0 {25 ns} -r 50\\n\\\n",
    "run 75\\n\""
   ]
  },
  {
   "cell_type": "code",
   "execution_count": 33,
   "metadata": {},
   "outputs": [],
   "source": [
    "def setupImage():\n",
    "    return \"force -freeze sim:/accelerator/INTR 1 0, 0 {50 ns} -r 1050 \\n\\\n",
    "force -freeze sim:/accelerator/loadOrProcess 0 0 \\n\\\n",
    "force -freeze sim:/accelerator/imageOrCNN 0 0\\n\""
   ]
  },
  {
   "cell_type": "code",
   "execution_count": 34,
   "metadata": {},
   "outputs": [],
   "source": [
    "def writeInput(numString, waitCycleTime):\n",
    "    return \"force -freeze sim:/accelerator/Din 2'b\" + numString + \" 0 \\n\\\n",
    "run 26 \\n\\\n",
    "noforce sim:/accelerator/Din \\n\\\n",
    "run \" + str(waitCycleTime) + \"\\n\""
   ]
  },
  {
   "cell_type": "code",
   "execution_count": 35,
   "metadata": {},
   "outputs": [],
   "source": [
    "def setupCNN():\n",
    "    return \"force -freeze sim:/accelerator/imageOrCNN 1 0 \\n\\\n",
    "force -freeze sim:/accelerator/INTR 1 0, 0 {50 ns} -r 250\\n\""
   ]
  },
  {
   "cell_type": "code",
   "execution_count": 36,
   "metadata": {},
   "outputs": [],
   "source": [
    "def endState():\n",
    "    return \"force -freeze sim:/accelerator/loadOrProcess 1 0\\n\\\n",
    "force -freeze sim:/accelerator/INTR 0 0 \\n\\\n",
    "run 50\\n\""
   ]
  },
  {
   "cell_type": "code",
   "execution_count": 40,
   "metadata": {},
   "outputs": [],
   "source": [
    "input_filename = \"AutomatedAccelerator.do\"\n",
    "file = open(input_filename, 'w')\n",
    "\n",
    "file.writelines(init())\n",
    "file.writelines(forceFirstCycle())\n",
    "file.writelines(setupImage())\n",
    "for img_word in Image_data:\n",
    "    file.writelines(writeInput(img_word, 1024))\n",
    "file.writelines(setupCNN())\n",
    "for CNN_word in CNN_data:\n",
    "    file.writelines(writeInput(CNN_word, 224))\n",
    "#for FC_word in FC_data[0:3]:\n",
    "    #file.writelines(writeInput(FC_word, 224))\n",
    "file.writelines(endState())\n",
    "file.close()"
   ]
  },
  {
   "cell_type": "code",
   "execution_count": null,
   "metadata": {},
   "outputs": [],
   "source": []
  }
 ],
 "metadata": {
  "kernelspec": {
   "display_name": "Python 3",
   "language": "python",
   "name": "python3"
  },
  "language_info": {
   "codemirror_mode": {
    "name": "ipython",
    "version": 3
   },
   "file_extension": ".py",
   "mimetype": "text/x-python",
   "name": "python",
   "nbconvert_exporter": "python",
   "pygments_lexer": "ipython3",
   "version": "3.7.3"
  }
 },
 "nbformat": 4,
 "nbformat_minor": 2
}
